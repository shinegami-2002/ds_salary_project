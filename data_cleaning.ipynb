{
  "nbformat": 4,
  "nbformat_minor": 0,
  "metadata": {
    "colab": {
      "provenance": [],
      "authorship_tag": "ABX9TyMixl2wAN3b8JJx7Z1a+JPO",
      "include_colab_link": true
    },
    "kernelspec": {
      "name": "python3",
      "display_name": "Python 3"
    },
    "language_info": {
      "name": "python"
    }
  },
  "cells": [
    {
      "cell_type": "markdown",
      "metadata": {
        "id": "view-in-github",
        "colab_type": "text"
      },
      "source": [
        "<a href=\"https://colab.research.google.com/github/shinegami-2002/ds_salary_project/blob/master/data_cleaning.ipynb\" target=\"_parent\"><img src=\"https://colab.research.google.com/assets/colab-badge.svg\" alt=\"Open In Colab\"/></a>"
      ]
    },
    {
      "cell_type": "code",
      "execution_count": 2,
      "metadata": {
        "id": "-lxqgKA1j-_M"
      },
      "outputs": [],
      "source": [
        "import pandas as pd \n",
        "\n",
        "df = pd.read_csv('glassdoor_jobs.csv')\n",
        "\n",
        "#salary parsing \n",
        "\n",
        "df['hourly'] = df['Salary Estimate'].apply(lambda x: 1 if 'per hour' in x.lower() else 0)\n",
        "df['employer_provided'] = df['Salary Estimate'].apply(lambda x: 1 if 'employer provided salary:' in x.lower() else 0)\n",
        "\n",
        "df = df[df['Salary Estimate'] != '-1']\n",
        "salary = df['Salary Estimate'].apply(lambda x: x.split('(')[0])\n",
        "minus_Kd = salary.apply(lambda x: x.replace('K','').replace('$',''))\n",
        "\n",
        "min_hr = minus_Kd.apply(lambda x: x.lower().replace('per hour','').replace('employer provided salary:',''))\n",
        "\n",
        "df['min_salary'] = min_hr.apply(lambda x: int(x.split('-')[0]))\n",
        "df['max_salary'] = min_hr.apply(lambda x: int(x.split('-')[1]))\n",
        "df['avg_salary'] = (df.min_salary+df.max_salary)/2\n",
        "\n",
        "#Company name text only\n",
        "df['company_txt'] = df.apply(lambda x: x['Company Name'] if x['Rating'] <0 else x['Company Name'][:-3], axis = 1)\n",
        "\n",
        "#state field \n",
        "df['job_state'] = df['Location'].apply(lambda x: x.split(',')[1])\n",
        "df.job_state.value_counts()\n",
        "\n",
        "df['same_state'] = df.apply(lambda x: 1 if x.Location == x.Headquarters else 0, axis = 1)\n",
        "\n",
        "#age of company \n",
        "df['age'] = df.Founded.apply(lambda x: x if x <1 else 2020 - x)\n",
        "\n",
        "#parsing of job description (python, etc.)\n",
        "\n",
        "#python\n",
        "df['python_yn'] = df['Job Description'].apply(lambda x: 1 if 'python' in x.lower() else 0)\n",
        " \n",
        "#r studio \n",
        "df['R_yn'] = df['Job Description'].apply(lambda x: 1 if 'r studio' in x.lower() or 'r-studio' in x.lower() else 0)\n",
        "df.R_yn.value_counts()\n",
        "\n",
        "#spark \n",
        "df['spark'] = df['Job Description'].apply(lambda x: 1 if 'spark' in x.lower() else 0)\n",
        "df.spark.value_counts()\n",
        "\n",
        "#aws \n",
        "df['aws'] = df['Job Description'].apply(lambda x: 1 if 'aws' in x.lower() else 0)\n",
        "df.aws.value_counts()\n",
        "\n",
        "#excel\n",
        "df['excel'] = df['Job Description'].apply(lambda x: 1 if 'excel' in x.lower() else 0)\n",
        "df.excel.value_counts()\n",
        "\n",
        "df.columns\n",
        "\n",
        "df_out = df.drop(['Unnamed: 0'], axis =1)\n",
        "\n",
        "df_out.to_csv('salary_data_cleaned.csv',index = False)"
      ]
    }
  ]
}